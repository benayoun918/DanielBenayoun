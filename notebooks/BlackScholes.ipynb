{
 "cells": [
  {
   "cell_type": "markdown",
   "metadata": {},
   "source": [
    "# Black Scholes Formula\n",
    "\n",
    "The Black-Scholes-Merton model created in 1973  estimates the price of a derivative with inputs: volatility, underlying asset price, strike price, time until expiration, and the risk free interest rate\n",
    "\n",
    "The Black Scholes equation is seen below with:\n",
    "* V: option price\n",
    "* S: asset price\n",
    "* t: time\n",
    "* r: risk-free rate\n",
    "* $\\sigma$ : asset volatility "
   ]
  },
  {
   "cell_type": "markdown",
   "metadata": {},
   "source": [
    "$$ \\frac{\\partial V}{\\partial t} + \\frac{1}{2}\\sigma^{2}S^{2}\\frac{\\partial^{2}V}{\\partial S^{2}} + rS \\frac{\\partial V}{\\partial s} - rV = 0$$"
   ]
  },
  {
   "cell_type": "markdown",
   "metadata": {},
   "source": [
    "Black-Scholes argues that stock prices follow a geometric brownian motion with a constant drift and constant volatility"
   ]
  },
  {
   "cell_type": "markdown",
   "metadata": {},
   "source": [
    "The Black-Scholes Formula was derived to compute the price of european style options\n",
    "\n",
    "for call options:"
   ]
  },
  {
   "cell_type": "markdown",
   "metadata": {},
   "source": [
    "$$ C(S_t, t) = N(d_1)S_t - N(d_2)Ke^{-r(T-t)}$$"
   ]
  },
  {
   "cell_type": "markdown",
   "metadata": {},
   "source": [
    "and for put options:"
   ]
  },
  {
   "cell_type": "markdown",
   "metadata": {},
   "source": [
    "$$ P(S_t, t) = N(-d_2)Ke^{-r(T-t)} - N(-d_1)S_t$$\n",
    "\n",
    "*$N(x)$ denotes the standard normal cumulative distribution function*"
   ]
  },
  {
   "cell_type": "markdown",
   "metadata": {},
   "source": [
    "where:\n",
    "$$ d_1 = \\frac{1}{\\sigma\\sqrt{T-t}}[ln(\\frac{S_t}{K}) + (r+\\frac{\\sigma^2}{2})(T-t)]$$\n",
    "and\n",
    "$$d2 = d1 - \\sigma\\sqrt{T-t}$$"
   ]
  },
  {
   "cell_type": "markdown",
   "metadata": {},
   "source": [
    "Below is a implementation of Black Scholes Formula using interactive Ipywidgets"
   ]
  },
  {
   "cell_type": "code",
   "execution_count": 1,
   "metadata": {},
   "outputs": [],
   "source": [
    "import pandas as pd\n",
    "import numpy as np\n",
    "from scipy.stats import norm\n",
    "import math"
   ]
  },
  {
   "cell_type": "code",
   "execution_count": 2,
   "metadata": {},
   "outputs": [],
   "source": [
    "def d1(S, K, r, vol, Time):\n",
    "    return ((np.log(S/K)+(r+((vol**2)/2))*(Time))/(vol*math.sqrt(Time)))\n",
    "\n",
    "def d2(d1, vol, Time):\n",
    "    return d1-(vol*math.sqrt(Time))"
   ]
  },
  {
   "cell_type": "code",
   "execution_count": 3,
   "metadata": {},
   "outputs": [],
   "source": [
    "def C_t(S, K, r, vol, Time):\n",
    "    d_1 = d1(S, K, r, vol,Time)\n",
    "    d_2 = d2(d_1, vol, Time)\n",
    "    return math.exp(-r*Time)*((math.exp(r*Time)*S*norm.cdf(d_1)) - K*norm.cdf(d_2))\n",
    "\n",
    "def P_t(S, K, r, vol, Time):\n",
    "    d_1 = d1(S, K, r, vol, Time)\n",
    "    d_2 = d2(d_1, vol, Time)\n",
    "    return math.exp(-r*Time)*(K*norm.cdf(-d_2) - (math.exp(r*Time)*S*norm.cdf(-d_1)))"
   ]
  },
  {
   "cell_type": "code",
   "execution_count": 4,
   "metadata": {},
   "outputs": [
    {
     "data": {
      "application/vnd.jupyter.widget-view+json": {
       "model_id": "40f66dab96b34f589adaa92847ab95c7",
       "version_major": 2,
       "version_minor": 0
      },
      "text/plain": [
       "interactive(children=(FloatText(value=100.0, description='S'), FloatText(value=100.0, description='K'), FloatT…"
      ]
     },
     "metadata": {},
     "output_type": "display_data"
    }
   ],
   "source": [
    "import ipywidgets as widgets\n",
    "from IPython.display import display\n",
    "%matplotlib inline\n",
    "\n",
    "def show_prices(S, K, r, vol, Time):\n",
    "    callprice = C_t(S, K, r, vol, Time)\n",
    "    putprice = P_t(S, K, r, vol, Time)\n",
    "    print('Call price: ' + str(callprice))\n",
    "    print('Put price: ' + str(putprice))\n",
    "    \n",
    "    \n",
    "controls = widgets.interactive(show_prices,\n",
    "                               S = widgets.FloatText(value=100),\n",
    "                               K = widgets.FloatText(value=100),\n",
    "                               r = widgets.FloatText(value=0.05),\n",
    "                               vol = widgets.FloatText(value=1), \n",
    "                               Time = widgets.FloatText(value=1))\n",
    "display(controls)"
   ]
  }
 ],
 "metadata": {
  "kernelspec": {
   "display_name": "Python 3",
   "language": "python",
   "name": "python3"
  },
  "language_info": {
   "codemirror_mode": {
    "name": "ipython",
    "version": 3
   },
   "file_extension": ".py",
   "mimetype": "text/x-python",
   "name": "python",
   "nbconvert_exporter": "python",
   "pygments_lexer": "ipython3",
   "version": "3.8.5"
  }
 },
 "nbformat": 4,
 "nbformat_minor": 4
}
