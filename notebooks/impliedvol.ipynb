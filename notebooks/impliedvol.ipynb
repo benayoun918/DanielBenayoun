{
 "cells": [
  {
   "cell_type": "markdown",
   "id": "a60796be-b13c-4fb5-a58a-2c232954a017",
   "metadata": {},
   "source": [
    "# Numerical Methods to Find Implied Volatility"
   ]
  },
  {
   "cell_type": "code",
   "execution_count": 14,
   "id": "7312b98c-aac9-4b96-938a-7de4076de3b3",
   "metadata": {},
   "outputs": [],
   "source": [
    "import pandas as pd\n",
    "import numpy as np\n",
    "import math\n",
    "from scipy.stats import norm"
   ]
  },
  {
   "cell_type": "markdown",
   "id": "88973364-9345-4a3b-a5e6-a476b6444a86",
   "metadata": {},
   "source": [
    "### Standard Normal CDF"
   ]
  },
  {
   "cell_type": "code",
   "execution_count": 3,
   "id": "fdb09072-ac85-4f62-9bb3-35d4800cae9b",
   "metadata": {},
   "outputs": [],
   "source": [
    "#Helper functions to approximate standard normal CDF\n",
    "\n",
    "#Trapezoid function\n",
    "def g(q):\n",
    "    return (1/np.sqrt(2*math.pi))*math.exp(-(q**2)*0.5)\n",
    "\n",
    "def qsum(x, m):\n",
    "    x = abs(x)\n",
    "    dq = x/m\n",
    "    g0 = g(0)\n",
    "    sum1 = 0\n",
    "    for i in range(1, m):\n",
    "        sum1 += g(i*dq)\n",
    "    gx = g(x)\n",
    "    return (dq/2)*(g0 + 2*sum1 + gx)\n",
    "\n",
    "def normal(x, m):\n",
    "    if(x > 5):\n",
    "        return 1\n",
    "    sign = lambda x: math.copysign(1,x)\n",
    "    return 0.5+sign(x)*qsum(x,m)"
   ]
  },
  {
   "cell_type": "markdown",
   "id": "86a79eda-fe97-49b4-9c87-322b57ca827f",
   "metadata": {},
   "source": [
    "### Black Scholes Volatility Test"
   ]
  },
  {
   "cell_type": "code",
   "execution_count": 16,
   "id": "34425951-c0cb-4f4d-8cf8-d5f434c41876",
   "metadata": {},
   "outputs": [],
   "source": [
    "# Black Scholes Function\n",
    "# Should return 0 if correct volatility is found\n",
    "\n",
    "def f_sigma(S, r, T, E, C, sigma, m):\n",
    "    d1 = (np.log(S/E)+r*T)/(sigma*np.sqrt(T))+(0.5*sigma*np.sqrt(T))\n",
    "    d2 = (np.log(S/E)+r*T)/(sigma*np.sqrt(T))-(0.5*sigma*np.sqrt(T))\n",
    "    return C-S*normal(d1, m) + normal(d2, m)*E*np.exp(-r*T)"
   ]
  },
  {
   "cell_type": "markdown",
   "id": "cfb1b891-d7e7-4b94-98e8-85739c33064e",
   "metadata": {},
   "source": [
    "### Bisection Method"
   ]
  },
  {
   "cell_type": "code",
   "execution_count": 17,
   "id": "7051c8e0-cb09-469d-b3d4-e9464fb9cd5f",
   "metadata": {
    "tags": []
   },
   "outputs": [],
   "source": [
    "def bisection_iv(S, r, T, E, C, m):\n",
    "    # Check if inputs are valid\n",
    "    if (C > S) or (C < (S - E*math.exp(-r*T))):\n",
    "        print('Option price out of bounds')\n",
    "        return None\n",
    "    \n",
    "    # Initial Points\n",
    "    a0 = 10**(-6)\n",
    "    b0 = 1\n",
    "    \n",
    "    # Alter interval to ensure solution is found\n",
    "    fa = f_sigma(S, r, T, E, C, a0, m)\n",
    "    fb = f_sigma(S, r, T, E, C, b0, m)\n",
    "    if fa*fb > 0:\n",
    "        if fa < 0:\n",
    "            b0 = a0\n",
    "            a0 = 0\n",
    "        elif fb > 0:\n",
    "            while(fb>0):\n",
    "                a0 = b0\n",
    "                b0 = 2*b0\n",
    "                fb = f_sigma(S, r, T, E, C, b0, m) \n",
    "    \n",
    "    print('bisection starting interval: [' + str(a0) + ',' + str(b0)+']')\n",
    "    \n",
    "    a = []\n",
    "    b = []\n",
    "    a.append(a0)\n",
    "    b.append(b0)\n",
    "    \n",
    "    i = 0\n",
    "    h = (a0+b0)/2\n",
    "    fh = f_sigma(S, r, T, E, C, h, m)\n",
    "    \n",
    "    while(b[i]-a[i] > 10**(-6)):\n",
    "        h = (a[i]+b[i])/2\n",
    "        fa = f_sigma(S,r,T,E,C,a[i],m)\n",
    "        fb = f_sigma(S,r,T,E,C,b[i],m)\n",
    "        fh = f_sigma(S,r,T,E,C,h,m)\n",
    "        if abs(fh) < 10**(-6):\n",
    "            print('iterations: '+str(i))\n",
    "            return h\n",
    "        if fh*fb > 0:\n",
    "            b.append(h)\n",
    "            a.append(a[i])\n",
    "        else:\n",
    "            a.append(h)\n",
    "            b.append(b[i])\n",
    "        i+=1\n",
    "        \n",
    "    print('iterations: '+str(i))\n",
    "    \n",
    "    return h"
   ]
  },
  {
   "cell_type": "markdown",
   "id": "bed50a23-dbb2-4c46-9bac-b68f4dbd3414",
   "metadata": {},
   "source": [
    "### Newton's Method"
   ]
  },
  {
   "cell_type": "code",
   "execution_count": 6,
   "id": "d9288431-0613-44d6-8150-8f5e262d9263",
   "metadata": {
    "tags": []
   },
   "outputs": [],
   "source": [
    "# first derivative of the f function above\n",
    "def f_prime(S, r, T, E, sigma):\n",
    "    d1 = (np.log(S/E)+(r+(sigma**2)/2)*T)/math.sqrt((sigma**2)*T)\n",
    "    return -S*g(abs(d1))*np.sqrt(T)\n",
    "\n",
    "def newton_iv(S, r, T, E, C, m):\n",
    "    # Check if inputs are valid\n",
    "    if (C > S) or (C < (S - E*math.exp(-r*T))):\n",
    "        print('Option price out of bounds')\n",
    "        return None\n",
    "    \n",
    "    # This initial guess ensures a solution is found\n",
    "    x0 = np.sqrt((2*abs(np.log(S/E)+r*T))/T)\n",
    "    print('Newton starting point: ' + str(x0))\n",
    "    \n",
    "    i = 0\n",
    "    x = []\n",
    "    x.append(x0)\n",
    "    while(True):\n",
    "        fx = f_sigma(S,r,T,E,C,x[i],m)\n",
    "        if abs(fx) < 10**(-6):\n",
    "            print('iterations: ' + str(i))\n",
    "            return x[i]\n",
    "        fp = f_prime(S,r,T,E,x[i])\n",
    "        x.append(x[i]-(fx/fp))\n",
    "        i+=1\n",
    "        \n",
    "    return x[i]"
   ]
  },
  {
   "cell_type": "markdown",
   "id": "4b9dc2bc-10e7-4260-8f75-4c74b0ddb1a4",
   "metadata": {},
   "source": [
    "### Results"
   ]
  },
  {
   "cell_type": "code",
   "execution_count": 7,
   "id": "3007dc19-9c7f-4d5d-8db7-df2aff010c52",
   "metadata": {},
   "outputs": [
    {
     "name": "stdout",
     "output_type": "stream",
     "text": [
      "call price: 0.2\n",
      "bisection starting interval: [1e-06,1]\n",
      "iterations: 17\n",
      "Newton starting point: 0.29142266730521776\n",
      "iterations: 2\n",
      "\n",
      "call price: 0.3\n",
      "bisection starting interval: [1e-06,1]\n",
      "iterations: 17\n",
      "Newton starting point: 0.29142266730521776\n",
      "iterations: 2\n",
      "\n",
      "call price: 0.4\n",
      "bisection starting interval: [1e-06,1]\n",
      "iterations: 14\n",
      "Newton starting point: 0.29142266730521776\n",
      "iterations: 3\n",
      "\n",
      "call price: 0.5\n",
      "bisection starting interval: [1e-06,1]\n",
      "iterations: 16\n",
      "Newton starting point: 0.29142266730521776\n",
      "iterations: 3\n",
      "\n",
      "call price: 0.6\n",
      "bisection starting interval: [1,2]\n",
      "iterations: 15\n",
      "Newton starting point: 0.29142266730521776\n",
      "iterations: 4\n",
      "\n",
      "call price: 0.7\n",
      "bisection starting interval: [1,2]\n",
      "iterations: 15\n",
      "Newton starting point: 0.29142266730521776\n",
      "iterations: 5\n",
      "\n"
     ]
    }
   ],
   "source": [
    "calls = [0.2, 0.3, 0.4, 0.5, 0.6, 0.7]\n",
    "bis = []\n",
    "newtons = []\n",
    "\n",
    "for i in calls:\n",
    "    print('call price: ' + str(i))\n",
    "    bis.append(bisection_iv(0.75, 0.1, 5, 1, i, 100))\n",
    "    newtons.append(newton_iv(0.75, 0.1, 5, 1, i, 100))\n",
    "    print()"
   ]
  },
  {
   "cell_type": "code",
   "execution_count": 18,
   "id": "6309c406-066f-4c3b-9137-7b4e3a3aa3ea",
   "metadata": {},
   "outputs": [
    {
     "data": {
      "image/png": "[encoded data removed]",
      "text/plain": [
       "<Figure size 432x288 with 1 Axes>"
      ]
     },
     "metadata": {
      "needs_background": "light"
     },
     "output_type": "display_data"
    },
    {
     "data": {
      "image/png": "[encoded data removed]",
      "text/plain": [
       "<Figure size 432x288 with 1 Axes>"
      ]
     },
     "metadata": {
      "needs_background": "light"
     },
     "output_type": "display_data"
    }
   ],
   "source": [
    "import matplotlib.pyplot as plt\n",
    "\n",
    "plt.plot(calls, bis)\n",
    "plt.xlabel('Option Price')\n",
    "plt.ylabel('Implied Vol')\n",
    "plt.title('Bisection')\n",
    "plt.show()\n",
    "plt.plot(calls, newtons)\n",
    "plt.xlabel('Option Price')\n",
    "plt.ylabel('Implied Vol')\n",
    "plt.title('Newton')\n",
    "plt.show()"
   ]
  },
  {
   "cell_type": "code",
   "execution_count": null,
   "id": "0bda436e-c558-457c-a99d-822c35992597",
   "metadata": {},
   "outputs": [],
   "source": []
  }
 ],
 "metadata": {
  "kernelspec": {
   "display_name": "Python 3",
   "language": "python",
   "name": "python3"
  },
  "language_info": {
   "codemirror_mode": {
    "name": "ipython",
    "version": 3
   },
   "file_extension": ".py",
   "mimetype": "text/x-python",
   "name": "python",
   "nbconvert_exporter": "python",
   "pygments_lexer": "ipython3",
   "version": "3.8.8"
  }
 },
 "nbformat": 4,
 "nbformat_minor": 5
}
